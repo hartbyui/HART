{
 "cells": [
  {
   "cell_type": "markdown",
   "metadata": {},
   "source": [
    "# Example iPython Code for the CosmicWatch Muon Detector"
   ]
  },
  {
   "cell_type": "markdown",
   "metadata": {},
   "source": [
    "This script can be used to make some simple plots using iPython.\n",
    "You'll require some imports, all of which are in the next cell.\n",
    "\n",
    "The CWClass class alows you to give it a file name and locations and it will parse the data\n",
    "to make it more user friendly. For example:\n",
    "\n",
    "myCWData = CWClass('file_location/M0001.txt',bin_size = 120)\n",
    "\n",
    "ADC_values = myCWData.adc\n",
    "\n",
    "ADC_values will be an array of the ADC measurements, event by event.\n",
    "\n",
    "The bin_size argument is for binning the data into time intervals in seconds. For example, if you\n",
    "want to look at the count rate in ten minute intervals, set it to 600.\n",
    "\n",
    "The way that I like to plot data is to define a class that takes lists of different measurements.\n",
    "For example, you'll see that when I plot two files a few cells down, the data is set like this:\n",
    "\n",
    "data = [f1.sipm,f2.sipm]\n",
    "\n",
    "The code will loop through the number of entries in the list, and plot them independently on the \n",
    "same fig. So this plot will include both the SiPM voltage values from file 1 (f1) and file 2 (f2).\n"
   ]
  },
  {
   "cell_type": "code",
   "execution_count": 1,
   "metadata": {},
   "outputs": [
    {
     "data": {
      "text/html": [
       "<style>.container { width:100% !important; }</style>"
      ],
      "text/plain": [
       "<IPython.core.display.HTML object>"
      ]
     },
     "metadata": {},
     "output_type": "display_data"
    },
    {
     "name": "stdout",
     "output_type": "stream",
     "text": [
      "Imports complete ...\n"
     ]
    }
   ],
   "source": [
    "#***********************************************************************************\n",
    "# Master import\n",
    "#***********************************************************************************\n",
    "\n",
    "# Plot data in the window\n",
    "%matplotlib inline\n",
    "# Make the cell width the size of the window\n",
    "from IPython.core.display import display, HTML\n",
    "display(HTML(\"<style>.container { width:100% !important; }</style>\"))\n",
    "\n",
    "# Imports\n",
    "import glob\n",
    "import sys\n",
    "import pylab\n",
    "from pylab import *\n",
    "import matplotlib\n",
    "import matplotlib as mpl\n",
    "import matplotlib.pyplot as plt\n",
    "import scipy as sp\n",
    "import time\n",
    "import numpy as np\n",
    "import os\n",
    "\n",
    "# Fontsize\n",
    "font = { 'size':   24}\n",
    "matplotlib.rc('font', **font)\n",
    "\n",
    "'''\n",
    "# Allow it to use Latex notation\n",
    "plt.rc('text', usetex=True)\n",
    "'''\n",
    "# Define your own colors for the plots\n",
    "mycolors = ['#c70039','#ff5733','#ff8d1a','#ffc300','#eddd53','#add45c','#57c785',\n",
    "               '#00baad','#2a7b9b','#3d3d6b','#511849','#900c3f','#900c3f'] \n",
    "\n",
    "#***********************************************************************************\n",
    "# Master import\n",
    "#***********************************************************************************\n",
    "print('Imports complete ...')"
   ]
  },
  {
   "cell_type": "code",
   "execution_count": 2,
   "metadata": {},
   "outputs": [
    {
     "name": "stdout",
     "output_type": "stream",
     "text": [
      "Definitions complete ...\n"
     ]
    }
   ],
   "source": [
    "# ***********************************************************************************\n",
    "# CWClass\n",
    "# This class is used to import CW data and use it easily. It will use either the \n",
    "# data recorded by the computer or from the microSD Card.\n",
    "#\n",
    "# Arguments:\n",
    "#    1. fname: \n",
    "#       location and name of the file that you want to plot\n",
    "#    2. bin_size:\n",
    "#       When plotting rate as a function of time, you need to specify the rate over\n",
    "#       a given interval. \"bin_size\" is the interval in seconds. Default is 60s.\n",
    "#***********************************************************************************\n",
    "\n",
    "class CWClass():\n",
    "    def __init__(self,fname,bin_size = 60):\n",
    "        self.name = fname.split('/')[-1]\n",
    "        self.bin_size = bin_size\n",
    "        \n",
    "        fileHandle = open(fname,\"r\" )\n",
    "        lineList = fileHandle.readlines()\n",
    "        fileHandle.close()\n",
    "        header_lines = 0\n",
    "        \n",
    "        # Look through the first 1000 lines for the word \"Device\". Everything prior is considered part of the header.\n",
    "        for i in range(min(len(lineList),1000)):\n",
    "            header_in_file = lineList[i]\n",
    "            if 'Device' in header_in_file:\n",
    "                header_lines = i+1\n",
    "  \n",
    "        #Determine number of columns by looking at the second last line in the file.\n",
    "        number_of_columns = len(lineList[len(lineList)-2].split(\" \"))\n",
    "        column_array = range(0,number_of_columns)\n",
    "\n",
    "        \n",
    "        file_from_computer = False\n",
    "        file_from_sdcard   = False\n",
    "        \n",
    "        if number_of_columns == 9:\n",
    "            file_from_computer = True  # If you have 9 columns, you probably took the data on the computer \n",
    "            data = np.genfromtxt(fname, dtype = str, delimiter=' ', usecols=column_array, invalid_raise=False, skip_header=header_lines)\n",
    "            comp_date = data[:,0] #first column of data\n",
    "            comp_time = data[:,1]\n",
    "            event_number = data[:,2].astype(np.float)\n",
    "            Ardn_time_ms = data[:,3].astype(np.float)\n",
    "            adc = data[:,4].astype(np.float)\n",
    "            sipm = data[:,5].astype(np.float)\n",
    "            deadtime = data[:,6].astype(np.float)\n",
    "            temperature = data[:,7].astype(np.float)\n",
    "            detName = data[:,8]\n",
    "            \n",
    "        elif number_of_columns == 6:\n",
    "            file_from_sdcard = True # If you have 6 columns, you took the data from the sdCard\n",
    "            data = np.genfromtxt(fname, dtype = str, delimiter=' ', usecols=column_array, invalid_raise=False, skip_header=header_lines)\n",
    "            event_number = data[:,0].astype(np.float)\n",
    "            Ardn_time_ms = data[:,1].astype(np.float)\n",
    "            adc = data[:,2].astype(np.float)\n",
    "            sipm = data[:,3].astype(np.float)\n",
    "            deadtime = data[:,4].astype(np.float)\n",
    "            temperature = data[:,5].astype(np.float)\n",
    "            \n",
    "        else: \n",
    "            print('The file format is unknown, or older. If it is an older file format, you will have to change the number of columns in the CW class.')\n",
    "            \n",
    "            \n",
    "        # Simple check to see if the events are sequential\n",
    "        def sequential(l):\n",
    "            l = np.asarray(l).astype(np.int)\n",
    "            check = range(min(l),max(l)+1)\n",
    "\n",
    "            if len(l)!=len(check):\n",
    "                print('There is an event missing in the data.')\n",
    "                return False\n",
    "\n",
    "            counter = 0\n",
    "            for i in range(len(l)):\n",
    "                counter+=1\n",
    "                if l[i]!=check[i]:\n",
    "                    print('Check event number: '+str(counter))\n",
    "            return sum(check == l)==len(l)\n",
    "\n",
    "        if not sequential(event_number):\n",
    "            print('Events in file are not sequential.')\n",
    "\n",
    "        # Convert the computer time to an absolute time (MJD).\n",
    "        if file_from_computer:\n",
    "            time_stamp = []\n",
    "            for i in range(len(comp_date)):\n",
    "                year  = int(comp_date[i].split('-')[0])\n",
    "                month = int(comp_date[i].split('-')[1])\n",
    "                day   = int(comp_date[i].split('-')[2])\n",
    "                hour  = int(comp_time[i].split(':')[0])\n",
    "                mins  = int(comp_time[i].split(':')[1])\n",
    "                sec   = int(np.floor(float(comp_time[i].split(':')[2])))\n",
    "                try:  \n",
    "                    decimal = float('0.'+str(comp_time[i].split('.')[-1]))\n",
    "                except:\n",
    "                    decimal = 0.0\n",
    "                time_stamp.append(float(time.mktime((year, month, day, hour, mins, sec, 0, 0, 0)))+ decimal) \n",
    "\n",
    "\n",
    "            self.time_stamp_s     = np.asarray(time_stamp) -  min(np.asarray(time_stamp))       # The absolute time of an event in seconds\n",
    "            self.time_stamp_ms    = np.asarray(time_stamp -  min(np.asarray(time_stamp)))*1000  # The absolute time of an event in miliseconds   \n",
    "            self.total_time_s     = max(time_stamp) -  min(time_stamp)     # The absolute time of an event in seconds\n",
    "            self.detector_name    = detName                                \n",
    "            self.n_detector       = len(set(detName))\n",
    "\n",
    "        # Convert the cumulative deadtime to the deadtime between events\n",
    "        # The detector starts at time 0, so append a zero.\n",
    "        event_deadtime_ms = diff(np.append([0],deadtime))\n",
    "\n",
    "        # The Arduino absolute time isn't great. Over the course of a few hours, it will be off by several seconds. \n",
    "        # The computer will give you accurate time down to about 1ms. Reading from the serial port has ~ms scale uncertainty.\n",
    "        # The Arduino can give you a precise measurement (down to 1us), but the absolute time will drift. Expect it to be off by roughly 1min per day.\n",
    "        self.Ardn_time_ms      = Ardn_time_ms\n",
    "        self.Ardn_time_s       = Ardn_time_ms/1000.\n",
    "        \n",
    "        self.Ardn_total_time_s = max(self.Ardn_time_s)\n",
    "        self.Ardn_total_time_ms= max(self.Ardn_time_s)*1000.\n",
    "\n",
    "        self.event_number     = np.asarray(event_number)  # an arrray of the event numbers\n",
    "        self.total_counts     = max(event_number.astype(int)) - min(event_number.astype(int))\n",
    "        self.adc              = adc         # an arrray of the measured event ADC value\n",
    "        self.sipm             = sipm        # an arrray of the measured event SiPM value\n",
    "        \n",
    "        self.event_deadtime_s   = event_deadtime_ms/1000.      # an array of the measured event deadtime in seconds\n",
    "        self.event_deadtime_ms  = event_deadtime_ms            # an array of the measured event deadtime in miliseconds\n",
    "        self.total_deadtime_ms  = max(event_deadtime_ms)       # an array of the measured event deadtime in miliseconds\n",
    "        self.total_deadtime_s   = max(event_deadtime_ms)/1000. # The total deadtime in seconds\n",
    "                \n",
    "        # The time between events is well described by the Arduino timestamp. \n",
    "        # The 'diff' command takes the difference between each element in the array.\n",
    "        self.Ardn_event_livetime_s = diff(np.append([0],self.Ardn_time_s)) - self.event_deadtime_s\n",
    "        \n",
    "\n",
    "        if file_from_computer:\n",
    "            self.live_time        = (self.total_time_s - self.total_deadtime_s)\n",
    "            self.weights          = np.ones(len(event_number)) / self.live_time\n",
    "            self.count_rate       = self.total_counts/self.live_time \n",
    "            self.count_rate_err   = np.sqrt(self.total_counts)/self.live_time \n",
    "\n",
    "            bins = range(0,int(max(self.time_stamp_s)), self.bin_size)\n",
    "            counts, binEdges       = np.histogram(self.time_stamp_s, bins = bins)\n",
    "            bin_livetime, binEdges = np.histogram(self.time_stamp_s, bins = bins, weights = self.Ardn_event_livetime_s)\n",
    "        \n",
    "        elif file_from_sdcard:\n",
    "            self.live_time        = (self.Ardn_total_time_ms - self.total_deadtime_ms)/1000.\n",
    "            self.weights          = np.ones(len(event_number)) / self.live_time\n",
    "            self.count_rate       = self.total_counts/self.live_time \n",
    "            self.count_rate_err   = np.sqrt(self.total_counts)/self.live_time \n",
    "\n",
    "            bins = range(int(min(self.Ardn_time_s)),int(max(self.Ardn_time_s)),self.bin_size)\n",
    "            counts, binEdges = np.histogram(self.Ardn_time_s, bins = bins)\n",
    "            bin_livetime, binEdges = np.histogram(self.Ardn_time_s, bins = bins, weights = self.Ardn_event_livetime_s)\n",
    "            \n",
    "        else:\n",
    "            print('Error')\n",
    "        \n",
    "        print('Count rate: '+str(np.round(self.count_rate,4)) +' +/- '+ str(np.round(self.count_rate_err,4)))\n",
    "        \n",
    "        bincenters = 0.5*(binEdges[1:]+ binEdges[:-1])\n",
    "        \n",
    "        self.bin_size          = bin_size\n",
    "        self.binned_counts     = counts\n",
    "        self.binned_counts_err = np.sqrt(counts)\n",
    "        self.binned_count_rate = counts/bin_livetime\n",
    "        self.binned_count_rate_err = np.sqrt(counts)/bin_livetime\n",
    "        self.binned_time_s     = bincenters\n",
    "        self.binned_time_m     = bincenters/60.\n",
    "\n",
    "    \n",
    "        \n",
    "def plusSTD(n,array):\n",
    "    xh = np.add(n,np.sqrt(np.abs(array)))\n",
    "    return xh\n",
    "\n",
    "def subSTD(n,array):\n",
    "    xl = np.subtract(n,np.sqrt(np.abs(array)))\n",
    "    return xl\n",
    "\n",
    "def fill_between_steps(x, y1, y2=0, h_align='mid', ax=None,lw=2, **kwargs):\n",
    "    # If no Axes opject given, grab the current one:\n",
    "    if ax is None:\n",
    "        ax = plt.gca()\n",
    "    # First, duplicate the x values\n",
    "    xx = x.repeat(2)[1:]\n",
    "    # Now: the average x binwidth\n",
    "    xstep = sp.repeat((x[1:] - x[:-1]), 2)\n",
    "    xstep = sp.concatenate(([xstep[0]], xstep, [xstep[-1]]))\n",
    "    # Now: add one step at end of row.\n",
    "    xx = sp.append(xx, xx.max() + xstep[-1])\n",
    "\n",
    "    # Make it possible to chenge step alignment.\n",
    "    if h_align == 'mid':\n",
    "        xx -= xstep / 2.\n",
    "    elif h_align == 'right':\n",
    "        xx -= xstep\n",
    "\n",
    "    # Also, duplicate each y coordinate in both arrays\n",
    "    y1 = y1.repeat(2)#[:-1]\n",
    "    if type(y2) == sp.ndarray:\n",
    "        y2 = y2.repeat(2)#[:-1]\n",
    "\n",
    "    # now to the plotting part:\n",
    "    ax.fill_between(xx, y1, y2=y2,lw=lw, **kwargs)\n",
    "    return ax\n",
    "\n",
    "print('Definitions complete ...')"
   ]
  },
  {
   "cell_type": "markdown",
   "metadata": {},
   "source": [
    "# Example Multiple histogram "
   ]
  },
  {
   "cell_type": "code",
   "execution_count": 3,
   "metadata": {},
   "outputs": [],
   "source": [
    "class NPlot():\n",
    "    def __init__(self, \n",
    "                 data,\n",
    "                 weights,\n",
    "                 colors,\n",
    "                 labels,\n",
    "                 xmin,xmax,ymin,ymax,\n",
    "                 figsize = [10,10],fontsize = 18,nbins = 101, alpha = 0.9,\n",
    "                 xscale = 'log',yscale = 'log',xlabel = '',loc = 1,pdf_name='',lw=2, title=''):\n",
    "        \n",
    "        fig = plt.figure(figsize=(figsize[0], figsize[1])) \n",
    "        ax1 = fig.add_subplot(111)\n",
    "\n",
    "        if xscale == 'log':\n",
    "            bins = np.logspace(np.log10(xmin),np.log10(xmax),nbins)\n",
    "        if xscale == 'linear':\n",
    "            bins = np.linspace(xmin,xmax,nbins)\n",
    "    \n",
    "        for i in range(len(data)):\n",
    "            counts,binEdges = np.histogram(data[i][~np.isnan(data[i])],bins = bins,weights = weights[i][~np.isnan(weights[i])],range= (200,1024))\n",
    "            bincenters = 0.5*(binEdges[1:]+ binEdges[:-1])\n",
    "            sumWeightsSqrd, binEdges = np.histogram(data[i][~np.isnan(data[i])], bins = bins, weights = np.power(weights[i][~np.isnan(weights[i])],2),range= (200,1024))\n",
    "            fill_between_steps(bincenters, plusSTD(counts,sumWeightsSqrd),subSTD(counts,sumWeightsSqrd),  color = colors[i],alpha = alpha,lw=lw)\n",
    "            pylab.plot([1e14,1e14], label = labels[i],color = colors[i],alpha = alpha,linewidth = 2)\n",
    "        \n",
    "        pylab.yscale(yscale, nonposy='clip')\n",
    "        pylab.xscale(xscale, nonposx='clip')\n",
    "        pylab.grid(b=True, which='major', color='k', alpha = 0.1,linestyle='-')\n",
    "        pylab.grid(b=True, which='minor', color='k',alpha = .05,  linestyle='-')\n",
    "        pylab.legend(fontsize=fontsize-2,loc = loc,  fancybox = True,frameon=True)\n",
    "        pylab.ylabel(r'Rate/bin [s$^{-1}$]',size=fontsize)\n",
    "        pylab.xlabel(xlabel, labelpad=20,size=fontsize)\n",
    "        pylab.axis([xmin, xmax, ymin,ymax])\n",
    "        plt.title(title,fontsize=fontsize)\n",
    "        pylab.tight_layout()\n",
    "        if pdf_name != '':\n",
    "            plt.savefig(pdf_name, format='pdf',transparent =True)\n",
    "        pylab.show()\n"
   ]
  },
  {
   "cell_type": "code",
   "execution_count": 4,
   "metadata": {},
   "outputs": [
    {
     "name": "stdout",
     "output_type": "stream",
     "text": [
      "Count rate: 0.9032 +/- 0.011\n",
      "Count rate: 0.4719 +/- 0.0062\n"
     ]
    }
   ],
   "source": [
    "# Load data that was taken from a computer\n",
    "#    1. Give the name of the file\n",
    "#    2. Give the size of binning in time you would like\n",
    "cwd = os.getcwd()\n",
    "f1 = CWClass(cwd + \"/Sheilding/bkg_nobox_long.txt\", bin_size = 60)\n",
    "f2 = CWClass(cwd + \"/Sheilding/bkg_nobox_sheild_long.txt\", bin_size = 60)"
   ]
  },
  {
   "cell_type": "code",
   "execution_count": 5,
   "metadata": {},
   "outputs": [
    {
     "data": {
      "image/png": "[encoded data removed]",
      "text/plain": [
       "<Figure size 720x432 with 1 Axes>"
      ]
     },
     "metadata": {
      "needs_background": "light"
     },
     "output_type": "display_data"
    }
   ],
   "source": [
    "# Plot data\n",
    "c = NPlot(data = [f1.sipm,f2.sipm], \n",
    "    weights = [f1.weights, f2.weights],\n",
    "    colors = [mycolors[1],mycolors[6]],\n",
    "    labels = [r'Without Lead Sheild',r'With Lead Sheild'],\n",
    "    figsize = [10,6],\n",
    "    fontsize = 22,\n",
    "    xmin = 10, xmax = 1400,ymin = 0.1e-5,ymax = 1,\n",
    "    nbins =  51, alpha = 1, lw=2,\n",
    "    xscale = 'log',yscale = 'log',\n",
    "    xlabel = 'Calculated SiPM peak voltage [mV]',\n",
    "    title = 'Sheilding Measurement',\n",
    "    loc = 1, pdf_name='')"
   ]
  },
  {
   "cell_type": "markdown",
   "metadata": {},
   "source": [
    "# Example Rate plot"
   ]
  },
  {
   "cell_type": "code",
   "execution_count": 6,
   "metadata": {},
   "outputs": [],
   "source": [
    "class ratePlot():\n",
    "    def __init__(self,\n",
    "                 time,\n",
    "                 count_rates,\n",
    "                 count_rates_err,\n",
    "                 colors,\n",
    "                 labels,\n",
    "                 xmin,xmax,ymin,ymax,\n",
    "                 figsize = [10,10],fontsize = 18, alpha = 0.9,\n",
    "                 xscale = 'linear',yscale = 'linear',\n",
    "                 xlabel = '',ylabel = '',\n",
    "                 loc = 1,pdf_name='',title = ''):\n",
    "        \n",
    "        f = plt.figure(figsize=(figsize[0], figsize[1])) \n",
    "        ax1 = f.add_subplot(111)\n",
    "\n",
    "        for i in range(len(count_rates)):\n",
    "            pylab.errorbar(time[i], \n",
    "                           count_rates[i],\n",
    "                           xerr=0, yerr=count_rates_err[i],\n",
    "                           fmt= 'ko',label = labels[i], linewidth = 2, ecolor = colors[i], markersize = 2)\n",
    "\n",
    "        pylab.yscale(yscale, nonposy='clip')\n",
    "        pylab.xscale(xscale, nonposx='clip')\n",
    "        pylab.ylabel(ylabel)\n",
    "        pylab.xlabel(xlabel)\n",
    "        pylab.axis([xmin, xmax, ymin,ymax])\n",
    "        #ax1.xaxis.set_label_coords(0.5, 0.3)\n",
    "        ax1.xaxis.labelpad = 0 \n",
    "        pylab.legend(loc=loc, shadow=True,fontsize = 24,frameon = 0,fancybox = True)\n",
    "        pylab.tight_layout()\n",
    "        plt.title(title)\n",
    "        if pdf_name != '':\n",
    "            plt.savefig(pdf_name, format='pdf',transparent =True)\n",
    "        pylab.show()\n",
    "        "
   ]
  },
  {
   "cell_type": "code",
   "execution_count": 7,
   "metadata": {},
   "outputs": [
    {
     "data": {
      "image/png": "[encoded data removed]",
      "text/plain": [
       "<Figure size 864x432 with 1 Axes>"
      ]
     },
     "metadata": {
      "needs_background": "light"
     },
     "output_type": "display_data"
    }
   ],
   "source": [
    "c = ratePlot(time = [f1.binned_time_m,f2.binned_time_m],\n",
    "             count_rates = [f1.binned_count_rate,f2.binned_count_rate],\n",
    "             count_rates_err = [f1.binned_count_rate_err,f2.binned_count_rate_err],\n",
    "             colors =[mycolors[1],mycolors[6]],\n",
    "             labels = [r'Without Lead Sheild',r'With Lead Sheild'],\n",
    "             xmin = 0,xmax = 100,ymin = 0,ymax = 1.5,\n",
    "             figsize = [12,6],fontsize = 20,alpha = 1,\n",
    "             xscale = 'linear',yscale = 'linear',xlabel = 'Time [min]',ylabel = r'Rate [s$^{-1}$]',\n",
    "             loc = 1,pdf_name='',title = 'Rate Measurement')\n"
   ]
  },
  {
   "cell_type": "markdown",
   "metadata": {},
   "source": [
    "# Example Angle Plot"
   ]
  },
  {
   "cell_type": "code",
   "execution_count": 8,
   "metadata": {},
   "outputs": [],
   "source": [
    "class anglePlot():\n",
    "    def __init__(self,\n",
    "                 angles,            # a list, file angles\n",
    "                 count_rates,       # a list, file count rates\n",
    "                 count_rates_err,   # a list, file count rates\n",
    "                 figsize = [8,6],fontsize = 18, alpha = 0.9,\n",
    "                 loc = 1,pdf_name=''):\n",
    "        \n",
    "        fig = plt.figure(figsize=(figsize[0], figsize[1])) \n",
    "        ax1 = fig.add_subplot(111)\n",
    "        \n",
    "        x = np.linspace(-0.020, np.pi, 100)\n",
    "        y = np.cos(x)**2\n",
    "        \n",
    "        # Convert angles into radians\n",
    "        angles = np.asarray(angles)* np.pi /180.\n",
    "        \n",
    "        # The error in the angle is the approximate solid angle that is able to count a muon.\n",
    "        angles_err = []\n",
    "        \n",
    "        rate = []\n",
    "        \n",
    "        # If the angle \n",
    "        for i in range(len(count_rates)):\n",
    "            if angles[i] > 0.95*np.pi/2 and angles[i] < 1.05*np.pi/2.:\n",
    "                min_rate = count_rates[i]#/2.\n",
    "                \n",
    "        for i in range(len(count_rates)): \n",
    "            #if angles[i] > 0.95*np.pi/2 and angles[i] < 1.05*np.pi/2.:\n",
    "            #    angles_err.append(6.*np.pi / 180./2.)\n",
    "            #    rate.append(count_rates[i]/2.)# - min_rate)\n",
    "            #else:\n",
    "            rate.append(count_rates[i])# - min_rate*(1-np.cos(angles[i])**2))\n",
    "            angles_err.append(12*np.pi / 180./2)\n",
    "        \n",
    "        # We scale everything such that the max count rate is a 1.0\n",
    "        count_rates_err = np.asarray(count_rates_err)/max(count_rates)\n",
    "        \n",
    "        rate = np.divide(rate,max(rate))\n",
    "\n",
    "        pylab.axis([-0.020,1.6, 0.,1.1])\n",
    "        pylab.ylabel(r'Normalized Rate [s$^{-1}$]')\n",
    "        pylab.xlabel(r'$\\theta$ [rad]')\n",
    "        pylab.yscale('linear', nonposy='clip')\n",
    "        pylab.xscale('linear', nonposx='clip')\n",
    "\n",
    "        pylab.plot(x, y, 'b', label=r\"I $\\propto$ cos$^2\\theta$\")\n",
    "        pylab.errorbar(angles, rate, xerr=angles_err, yerr=count_rates_err, fmt='ok',label = 'Data')\n",
    "        pylab.legend(fontsize=fontsize,loc = 1,  fancybox = True,frameon=True)\n",
    "        pylab.tight_layout()\n",
    "        if pdf_name != '':\n",
    "            pylab.savefig(pdf_name, format='pdf',transparent =True)\n",
    "        pylab.show()"
   ]
  },
  {
   "cell_type": "code",
   "execution_count": 10,
   "metadata": {},
   "outputs": [
    {
     "name": "stdout",
     "output_type": "stream",
     "text": [
      "Count rate: 0.0073 +/- 0.0003\n",
      "Count rate: 0.0048 +/- 0.0003\n",
      "Count rate: 0.0013 +/- 0.0001\n"
     ]
    },
    {
     "name": "stderr",
     "output_type": "stream",
     "text": [
      "/usr/local/lib/python3.7/site-packages/ipykernel_launcher.py:165: RuntimeWarning: invalid value encountered in true_divide\n",
      "/usr/local/lib/python3.7/site-packages/ipykernel_launcher.py:166: RuntimeWarning: invalid value encountered in true_divide\n"
     ]
    }
   ],
   "source": [
    "# Load microSD card file \n",
    "cwd = os.getcwd()\n",
    "\n",
    "a1 = CWClass(cwd+\"/Angular_Measurement/Slave_0deg.txt\", bin_size = 120)\n",
    "a2 = CWClass(cwd+\"/Angular_Measurement/Slave_45deg.txt\", bin_size = 120)\n",
    "a3 = CWClass(cwd+\"/Angular_Measurement/Slave_90deg.txt\", bin_size = 120)"
   ]
  },
  {
   "cell_type": "code",
   "execution_count": 11,
   "metadata": {},
   "outputs": [
    {
     "data": {
      "image/png": "[encoded data removed]",
      "text/plain": [
       "<Figure size 720x432 with 1 Axes>"
      ]
     },
     "metadata": {
      "needs_background": "light"
     },
     "output_type": "display_data"
    }
   ],
   "source": [
    "c = anglePlot(angles = [0,45,90],\n",
    "    count_rates = [a1.count_rate,a2.count_rate,a3.count_rate],\n",
    "    count_rates_err = [a1.count_rate_err,a2.count_rate_err,a3.count_rate_err],\n",
    "    figsize = [10,6],fontsize = 25, alpha = 0.9,\n",
    "    pdf_name='')"
   ]
  },
  {
   "cell_type": "code",
   "execution_count": null,
   "metadata": {},
   "outputs": [],
   "source": []
  }
 ],
 "metadata": {
  "kernelspec": {
   "display_name": "Python 3",
   "language": "python",
   "name": "python3"
  },
  "language_info": {
   "codemirror_mode": {
    "name": "ipython",
    "version": 3
   },
   "file_extension": ".py",
   "mimetype": "text/x-python",
   "name": "python",
   "nbconvert_exporter": "python",
   "pygments_lexer": "ipython3",
   "version": "3.7.3"
  }
 },
 "nbformat": 4,
 "nbformat_minor": 2
}
